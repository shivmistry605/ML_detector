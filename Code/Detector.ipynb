{
 "cells": [
  {
   "cell_type": "code",
   "execution_count": 1,
   "metadata": {},
   "outputs": [
    {
     "name": "stdout",
     "output_type": "stream",
     "text": [
      "Pytesseract version: 0.3.10\n",
      "Open CV version: 4.7.0\n"
     ]
    }
   ],
   "source": [
    "import pandas as pd\n",
    "import cv2\n",
    "import pytesseract\n",
    "from IPython.core.interactiveshell import InteractiveShell\n",
    "import warnings\n",
    "\n",
    "warnings.filterwarnings('ignore')\n",
    "warnings.simplefilter('ignore')\n",
    "# allow displaying multiple outputs\n",
    "InteractiveShell.ast_node_interactivity = \"all\"\n",
    "\n",
    "\n",
    "print(f\"Pytesseract version: {pytesseract.__version__}\")\n",
    "print(f\"Open CV version: {cv2.__version__}\")"
   ]
  },
  {
   "attachments": {},
   "cell_type": "markdown",
   "metadata": {},
   "source": [
    "### Args"
   ]
  },
  {
   "cell_type": "code",
   "execution_count": 2,
   "metadata": {},
   "outputs": [],
   "source": [
    "path_to_model = 'C:/Source/ML.Detection/ML models/haarcascade_frontalface_default.xml'"
   ]
  },
  {
   "attachments": {},
   "cell_type": "markdown",
   "metadata": {},
   "source": [
    "### Functions to detect face and text from an image"
   ]
  },
  {
   "cell_type": "code",
   "execution_count": 3,
   "metadata": {},
   "outputs": [],
   "source": [
    "def _detect_face(image_path):\n",
    "    # Load the classifier and image\n",
    "    face_cascade = cv2.CascadeClassifier(path_to_model)\n",
    "    img = cv2.imread(image_path)\n",
    "    \n",
    "    # Convert the image to grayscale\n",
    "    gray = cv2.cvtColor(img, cv2.COLOR_BGR2GRAY)\n",
    "    \n",
    "    # Detect faces in the image\n",
    "    faces = face_cascade.detectMultiScale(gray, 1.1, 4)\n",
    "    \n",
    "    # If a face is detected, return True, otherwise return False\n",
    "    if len(faces) > 0:\n",
    "        return True\n",
    "    else:\n",
    "        return False\n",
    "    \n",
    "def _detect_text(image_path):\n",
    "    # Load the image\n",
    "    img = cv2.imread(image_path)\n",
    "    \n",
    "    # Convert the image to grayscale\n",
    "    gray = cv2.cvtColor(img, cv2.COLOR_BGR2GRAY)\n",
    "    \n",
    "    # Apply thresholding to remove noise and enhance text\n",
    "    thresh = cv2.threshold(gray, 0, 255, cv2.THRESH_BINARY | cv2.THRESH_OTSU)[1]\n",
    "    \n",
    "    # Use pytesseract to extract text from the image\n",
    "    text = pytesseract.image_to_string(thresh)\n",
    "    \n",
    "    # If text is detected, return the text, otherwise return False\n",
    "    if text:\n",
    "        return text\n",
    "    else:\n",
    "        return False"
   ]
  },
  {
   "cell_type": "code",
   "execution_count": 4,
   "metadata": {},
   "outputs": [],
   "source": [
    "def detector(image_path):\n",
    "    print(\"> Starting to detect from the image provided ...\")\n",
    "    if _detect_face(image_path):\n",
    "        print(\"\\t > A face has been detected in the image ...\")\n",
    "\n",
    "        if _detect_text(image_path):\n",
    "            text = _detect_text(image_path).split()\n",
    "            print(f\"\\t > Text identified from the imgae..\")\n",
    "            print(\"> We conclude that the image is an official document ...\")\n",
    "            return \"Identity\"\n",
    "        else:\n",
    "            print(\"\\t > No text extracted from this image ...\")\n",
    "            print(\"> We conclude that the image is just a head shot ...\")\n",
    "            return \"Headshot\"\n",
    "    else:\n",
    "        print(\"\\t > Faces or text not detected in the image ...\") "
   ]
  },
  {
   "cell_type": "code",
   "execution_count": 5,
   "metadata": {},
   "outputs": [
    {
     "name": "stdout",
     "output_type": "stream",
     "text": [
      "> Starting to detect from the image provided ...\n",
      "\t > A face has been detected in the image ...\n",
      "\t > Text identified from the imgae..\n",
      "> We conclude that the image is an official document ...\n"
     ]
    },
    {
     "data": {
      "text/plain": [
       "'Identity'"
      ]
     },
     "execution_count": 5,
     "metadata": {},
     "output_type": "execute_result"
    }
   ],
   "source": [
    "detector(r'C:/Source/ML.Detection/Data/Identity/75c905df157de24e9cadd48b010f362e.jpg')"
   ]
  }
 ],
 "metadata": {
  "kernelspec": {
   "display_name": "base",
   "language": "python",
   "name": "python3"
  },
  "language_info": {
   "codemirror_mode": {
    "name": "ipython",
    "version": 3
   },
   "file_extension": ".py",
   "mimetype": "text/x-python",
   "name": "python",
   "nbconvert_exporter": "python",
   "pygments_lexer": "ipython3",
   "version": "3.9.12"
  },
  "orig_nbformat": 4
 },
 "nbformat": 4,
 "nbformat_minor": 2
}
